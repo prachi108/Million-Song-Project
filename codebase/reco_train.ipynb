{
 "cells": [
  {
   "cell_type": "code",
   "execution_count": 1,
   "metadata": {
    "collapsed": true
   },
   "outputs": [],
   "source": [
    "from pprint import pprint\n",
    "from collections import defaultdict\n",
    "import itertools\n",
    "import sys\n",
    "from math import sqrt\n",
    "from operator import add\n",
    "from os.path import join, isfile, dirname\n",
    "from pyspark.mllib.recommendation import ALS,MatrixFactorizationModel"
   ]
  },
  {
   "cell_type": "code",
   "execution_count": 2,
   "metadata": {
    "collapsed": false
   },
   "outputs": [],
   "source": [
    "def to_string(line):\n",
    "    line=line.split(\"\\t\")\n",
    "    return (str(line[0]),str(line[1]),str(line[2]))\n",
    "\n",
    "def float_tostring(line):\n",
    "    return (str(line[0]),str(line[1]),str(line[2]))\n",
    "\n",
    "def take5(tup_list):\n",
    "    tup_top5=tup_list[:5]\n",
    "    return tup_top5\n",
    "\n",
    "def sort_tup_list(list_tup):\n",
    "    list_tup.sort(key=lambda x: -x[1])\n",
    "    return list_tup\n",
    "\n",
    "\n",
    "music_data=sc.textFile(\"C:\\Users\\Sharang Bhat\\Documents\\Kaggle-Data-Science\\Wrangles\\Music Recommender\\year1_valid_triplets_hidden.txt\").take(5000000)\n",
    "test_sc=sc.textFile(\"C:\\Users\\Sharang Bhat\\Documents\\Kaggle-Data-Science\\Wrangles\\Music Recommender\\year1_valid_triplets_visible.txt\").take(100000)"
   ]
  },
  {
   "cell_type": "code",
   "execution_count": 3,
   "metadata": {
    "collapsed": true
   },
   "outputs": [],
   "source": [
    "music_data=sc.parallelize(music_data)\n",
    "test_sc=sc.parallelize(test_sc)"
   ]
  },
  {
   "cell_type": "code",
   "execution_count": 4,
   "metadata": {
    "collapsed": true
   },
   "outputs": [],
   "source": [
    "ratings=music_data.map(to_string)\n",
    "userstoint = ratings.map(lambda (a,b,c): a).distinct().zipWithIndex()\n",
    "reversemappingofusers = userstoint.map(lambda (a,b) : (b,a))\n",
    "ratingswithuniqueuserid = ratings.map(lambda (a,b,c) : (a,(b,c))).join(userstoint)\n",
    "newratings = ratingswithuniqueuserid.map(lambda  (userid,((songid, count), usertoint)) : (usertoint, songid, count))\n",
    "songstoint = ratings.map(lambda (usertoint, songid, count): songid).distinct().zipWithIndex()\n",
    "ratingswithuniquesongid = newratings.map(lambda (usertoint,songid,count) : (songid,(usertoint,count))).join(songstoint)\n",
    "newratings = ratingswithuniquesongid.map(lambda  (songid,((usertoint, count), songtoint)) : (usertoint, songtoint, count))\n",
    "reversemappingofsongs = songstoint.map(lambda (a,b) : (b,a))\n",
    "newratings=newratings.map(float_tostring)\n",
    "newratings=newratings.filter(lambda (a,b,c): c.isdigit())"
   ]
  },
  {
   "cell_type": "code",
   "execution_count": 5,
   "metadata": {
    "collapsed": true
   },
   "outputs": [],
   "source": [
    "training_RDD, validation_RDD= newratings.randomSplit([6, 4], seed=0L)"
   ]
  },
  {
   "cell_type": "code",
   "execution_count": 6,
   "metadata": {
    "collapsed": false
   },
   "outputs": [],
   "source": [
    "validation_for_predict_RDD = validation_RDD.map(lambda x: (x[0], x[1]))"
   ]
  },
  {
   "cell_type": "code",
   "execution_count": 7,
   "metadata": {
    "collapsed": false
   },
   "outputs": [
    {
     "name": "stdout",
     "output_type": "stream",
     "text": [
      "For rank 4 the RMSE is 10.3784667736\n",
      "For rank 8 the RMSE is 9.89350761819\n",
      "For rank 12 the RMSE is 9.38352167796\n",
      "The best model was trained with rank 12\n"
     ]
    }
   ],
   "source": [
    "seed = 5L\n",
    "iterations = 10\n",
    "regularization_parameter = 0.1\n",
    "ranks = [4, 8, 12]\n",
    "errors = [0, 0, 0]\n",
    "err = 0\n",
    "tolerance = 0.02\n",
    "\n",
    "min_error = float('inf')\n",
    "best_rank = -1\n",
    "best_iteration = -1\n",
    "\n",
    "\n",
    "\n",
    "\n",
    "for rank in ranks:\n",
    "    model = ALS.train(training_RDD, rank, seed=seed, iterations=iterations,\n",
    "                      lambda_=regularization_parameter)\n",
    "    predictions = model.predictAll(validation_for_predict_RDD).map(lambda r: ((r[0], r[1]), r[2]))\n",
    "    rates_and_preds = validation_RDD.map(lambda r: ((int(r[0]), int(r[1])), float(r[2]))).join(predictions)\n",
    "    error = sqrt(rates_and_preds.map(lambda r: (r[1][0] - r[1][1])**2).mean())\n",
    "    errors[err] = error\n",
    "    err += 1\n",
    "    print 'For rank %s the RMSE is %s' % (rank, error)\n",
    "    if error < min_error:\n",
    "        min_error = error\n",
    "        best_rank = rank\n",
    "\n",
    "print 'The best model was trained with rank %s' % best_rank"
   ]
  },
  {
   "cell_type": "code",
   "execution_count": 27,
   "metadata": {
    "collapsed": false
   },
   "outputs": [
    {
     "data": {
      "text/plain": [
       "[((2511, 28263), (7.0, 0.70021002885393)),\n",
       " ((1651, 39155), (1.0, 1.3999881611844842))]"
      ]
     },
     "execution_count": 27,
     "metadata": {},
     "output_type": "execute_result"
    }
   ],
   "source": [
    "rates_and_preds.take(2)"
   ]
  },
  {
   "cell_type": "code",
   "execution_count": 23,
   "metadata": {
    "collapsed": false
   },
   "outputs": [
    {
     "data": {
      "text/plain": [
       "[u'0007140a3796e901f3190f12e9de6d7548d4ac4a\\tSONVMBN12AC9075271\\t1']"
      ]
     },
     "execution_count": 23,
     "metadata": {},
     "output_type": "execute_result"
    }
   ],
   "source": [
    "test_RDD.take(1)"
   ]
  },
  {
   "cell_type": "code",
   "execution_count": 24,
   "metadata": {
    "collapsed": true
   },
   "outputs": [],
   "source": [
    "test_ratings=test_RDD.map(to_string)\n",
    "test_userstoint = test_ratings.map(lambda (a,b,c): a).distinct().zipWithIndex()\n",
    "test_reversemappingofusers = test_userstoint.map(lambda (a,b) : (b,a))\n",
    "test_ratingswithuniqueuserid = test_ratings.map(lambda (a,b,c) : (a,(b,c))).join(userstoint)\n",
    "test_newratings = test_ratingswithuniqueuserid.map(lambda  (userid,((songid, count), usertoint)) : (usertoint, songid, count))\n",
    "test_songstoint = test_ratings.map(lambda (usertoint, songid, count): songid).distinct().zipWithIndex()\n",
    "test_ratingswithuniquesongid = test_newratings.map(lambda (usertoint,songid,count) : (songid,(usertoint,count))).join(songstoint)\n",
    "test_newratings = test_ratingswithuniquesongid.map(lambda  (songid,((usertoint, count), songtoint)) : (usertoint, songtoint, count))\n",
    "test_reversemappingofsongs = test_songstoint.map(lambda (a,b) : (b,a))\n",
    "test_newratings=test_newratings.map(float_tostring)\n",
    "test_newratings=test_newratings.filter(lambda (a,b,c): c.isdigit())"
   ]
  },
  {
   "cell_type": "code",
   "execution_count": 31,
   "metadata": {
    "collapsed": false
   },
   "outputs": [],
   "source": [
    "tester_RDD = test_newratings.map(lambda x: (x[0], x[1]))"
   ]
  },
  {
   "cell_type": "code",
   "execution_count": 32,
   "metadata": {
    "collapsed": false
   },
   "outputs": [
    {
     "name": "stdout",
     "output_type": "stream",
     "text": [
      "For testing data the RMSE is 8.95360967061\n"
     ]
    }
   ],
   "source": [
    "model = ALS.train(training_RDD, best_rank, seed=seed, iterations=iterations,\n",
    "                      lambda_=regularization_parameter)\n",
    "predictions = model.predictAll(tester_RDD).map(lambda r: ((r[0], r[1]), r[2]))\n",
    "rates_and_preds = test_newratings.map(lambda r: ((int(r[0]), int(r[1])), float(r[2]))).join(predictions)\n",
    "error = sqrt(rates_and_preds.map(lambda r: (r[1][0] - r[1][1])**2).mean())\n",
    "\n",
    "print 'For testing data the RMSE is %s' % (error)"
   ]
  },
  {
   "cell_type": "code",
   "execution_count": null,
   "metadata": {
    "collapsed": true
   },
   "outputs": [],
   "source": [
    "tra"
   ]
  }
 ],
 "metadata": {
  "kernelspec": {
   "display_name": "Python 2",
   "language": "python",
   "name": "python2"
  },
  "language_info": {
   "codemirror_mode": {
    "name": "ipython",
    "version": 2
   },
   "file_extension": ".py",
   "mimetype": "text/x-python",
   "name": "python",
   "nbconvert_exporter": "python",
   "pygments_lexer": "ipython2",
   "version": "2.7.12"
  }
 },
 "nbformat": 4,
 "nbformat_minor": 1
}
